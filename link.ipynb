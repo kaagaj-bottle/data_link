{
 "cells": [
  {
   "cell_type": "code",
   "execution_count": 1,
   "metadata": {},
   "outputs": [],
   "source": [
    "from typing import Dict, List, Optional, Tuple\n",
    "import dedupe\n",
    "import pandas as pd\n",
    "import json\n",
    "import logging"
   ]
  },
  {
   "cell_type": "code",
   "execution_count": 2,
   "metadata": {},
   "outputs": [],
   "source": [
    "def process_zip_for_loans_df_gov(zip):\n",
    "    try:\n",
    "        zip_str = str(int(zip))\n",
    "        return zip_str\n",
    "    except Exception as _:\n",
    "        return None\n",
    "\n"
   ]
  },
  {
   "cell_type": "code",
   "execution_count": 3,
   "metadata": {},
   "outputs": [],
   "source": [
    "matched_df_1=pd.read_csv(\"data/output/matched_df_1.csv\")\n",
    "matched_df_2=pd.read_csv(\"data/output/matched_df_2.csv\")"
   ]
  },
  {
   "cell_type": "code",
   "execution_count": 4,
   "metadata": {},
   "outputs": [],
   "source": [
    "matched_df_1[\"zip\"]=matched_df_1[\"zip\"].apply(process_zip_for_loans_df_gov)"
   ]
  },
  {
   "cell_type": "code",
   "execution_count": 5,
   "metadata": {},
   "outputs": [],
   "source": [
    "def process_state_clean(state):\n",
    "    if isinstance(state,str) and state.lower()==\"colorado\":\n",
    "        return \"CO\"\n",
    "    else:\n",
    "        return state "
   ]
  },
  {
   "cell_type": "code",
   "execution_count": 6,
   "metadata": {},
   "outputs": [],
   "source": [
    "matched_df_1[\"state_clean\"]=matched_df_1[\"state_clean\"].apply(process_state_clean)"
   ]
  },
  {
   "cell_type": "code",
   "execution_count": 8,
   "metadata": {},
   "outputs": [
    {
     "data": {
      "text/plain": [
       "0      80204.0\n",
       "1      80229.0\n",
       "2      80205.0\n",
       "3      80216.0\n",
       "4      80211.0\n",
       "        ...   \n",
       "108    80216.0\n",
       "109    80223.0\n",
       "110    80216.0\n",
       "111    80214.0\n",
       "112    80002.0\n",
       "Name: zip, Length: 113, dtype: float64"
      ]
     },
     "execution_count": 8,
     "metadata": {},
     "output_type": "execute_result"
    }
   ],
   "source": [
    "matched_df_2[\"zip\"]"
   ]
  },
  {
   "cell_type": "code",
   "execution_count": 9,
   "metadata": {},
   "outputs": [],
   "source": [
    "matched_df_2[\"zip\"]=matched_df_2[\"zip\"].apply(process_zip_for_loans_df_gov)"
   ]
  },
  {
   "cell_type": "code",
   "execution_count": 10,
   "metadata": {},
   "outputs": [
    {
     "data": {
      "text/plain": [
       "0      80204\n",
       "1      80229\n",
       "2      80205\n",
       "3      80216\n",
       "4      80211\n",
       "       ...  \n",
       "108    80216\n",
       "109    80223\n",
       "110    80216\n",
       "111    80214\n",
       "112    80002\n",
       "Name: zip, Length: 113, dtype: object"
      ]
     },
     "execution_count": 10,
     "metadata": {},
     "output_type": "execute_result"
    }
   ],
   "source": [
    "matched_df_2[\"zip\"]"
   ]
  },
  {
   "cell_type": "code",
   "execution_count": 11,
   "metadata": {},
   "outputs": [],
   "source": [
    "matched_data_1=matched_df_1.to_dict(orient=\"index\")\n",
    "matched_data_2=matched_df_2.to_dict(orient=\"index\")"
   ]
  },
  {
   "cell_type": "code",
   "execution_count": 12,
   "metadata": {},
   "outputs": [
    {
     "data": {
      "text/plain": [
       "dict"
      ]
     },
     "execution_count": 12,
     "metadata": {},
     "output_type": "execute_result"
    }
   ],
   "source": [
    "type(matched_data_1)"
   ]
  },
  {
   "cell_type": "code",
   "execution_count": 13,
   "metadata": {},
   "outputs": [],
   "source": [
    "fields_for_matching=[dedupe.variables.String(\"business_name\"),\n",
    "                         dedupe.variables.Exact(\"zip\"),\n",
    "                         dedupe.variables.String(\"address_clean\"),\n",
    "                         dedupe.variables.String(\"city_clean\"),\n",
    "                         dedupe.variables.String(\"state_clean\")]"
   ]
  },
  {
   "cell_type": "code",
   "execution_count": 14,
   "metadata": {},
   "outputs": [],
   "source": [
    "matches=[]\n",
    "for k,v in matched_data_1.items():\n",
    "    matches.append([v,matched_data_2[k]])"
   ]
  },
  {
   "cell_type": "code",
   "execution_count": 15,
   "metadata": {},
   "outputs": [],
   "source": [
    "training_pairs={\n",
    "    \"match\":[{\"__class__\":\"tuple\",\"__value__\":item} for item in matches],\n",
    "    \"distinct\":[]\n",
    "}"
   ]
  },
  {
   "cell_type": "code",
   "execution_count": 16,
   "metadata": {},
   "outputs": [],
   "source": [
    "with open(\"data/input/training_file.json\",\"w\") as fp:\n",
    "    fp.write(json.dumps(training_pairs,indent=2))"
   ]
  },
  {
   "cell_type": "code",
   "execution_count": 17,
   "metadata": {},
   "outputs": [],
   "source": [
    "content=None\n",
    "with open(\"data/extra/training_file.json\",\"r\") as fp:\n",
    "    content=json.loads(fp.read())"
   ]
  },
  {
   "cell_type": "code",
   "execution_count": 18,
   "metadata": {},
   "outputs": [],
   "source": [
    "matches=content[\"match\"]"
   ]
  },
  {
   "cell_type": "code",
   "execution_count": 19,
   "metadata": {},
   "outputs": [],
   "source": [
    "business_name_tuple=[(item[\"__value__\"][0].get(\"business_name\",None),item[\"__value__\"][1].get(\"business_name\",None)) for item in matches]"
   ]
  },
  {
   "cell_type": "code",
   "execution_count": 20,
   "metadata": {},
   "outputs": [],
   "source": [
    "import csv"
   ]
  },
  {
   "cell_type": "code",
   "execution_count": 21,
   "metadata": {},
   "outputs": [],
   "source": [
    "with open(\"data/extra/business_name.csv\",mode=\"w\",newline=\"\") as fp:\n",
    "    fieldnames=[\"name_1\",\"name_2\"]\n",
    "    writer=csv.DictWriter(fp, fieldnames=fieldnames)\n",
    "    writer.writeheader()\n",
    "    for name_1,name_2 in business_name_tuple:\n",
    "        output_row={\"name_1\":name_1,\"name_2\":name_2}\n",
    "        writer.writerow(output_row)"
   ]
  },
  {
   "cell_type": "code",
   "execution_count": 22,
   "metadata": {},
   "outputs": [
    {
     "data": {
      "text/plain": [
       "Unnamed: 0          int64\n",
       "loan_amount       float64\n",
       "business_name      object\n",
       "address            object\n",
       "city               object\n",
       "state              object\n",
       "zip                object\n",
       "naics_code        float64\n",
       "business_type      object\n",
       "race_ethnicity     object\n",
       "gender             object\n",
       "veteran            object\n",
       "non_profit           bool\n",
       "jobs_reported     float64\n",
       "date_approved      object\n",
       "lender             object\n",
       "cd                 object\n",
       "source_file        object\n",
       "na_flag              bool\n",
       "dupe_flag            bool\n",
       "year_approved       int64\n",
       "address_clean      object\n",
       "state_clean        object\n",
       "city_clean         object\n",
       "dtype: object"
      ]
     },
     "execution_count": 22,
     "metadata": {},
     "output_type": "execute_result"
    }
   ],
   "source": [
    "matched_df_2.dtypes"
   ]
  },
  {
   "cell_type": "code",
   "execution_count": null,
   "metadata": {},
   "outputs": [],
   "source": []
  }
 ],
 "metadata": {
  "kernelspec": {
   "display_name": ".venv",
   "language": "python",
   "name": "python3"
  },
  "language_info": {
   "codemirror_mode": {
    "name": "ipython",
    "version": 3
   },
   "file_extension": ".py",
   "mimetype": "text/x-python",
   "name": "python",
   "nbconvert_exporter": "python",
   "pygments_lexer": "ipython3",
   "version": "3.10.15"
  }
 },
 "nbformat": 4,
 "nbformat_minor": 2
}
