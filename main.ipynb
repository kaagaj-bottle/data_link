{
 "cells": [
  {
   "cell_type": "code",
   "execution_count": 1,
   "metadata": {},
   "outputs": [],
   "source": [
    "import pandas as pd"
   ]
  },
  {
   "cell_type": "code",
   "execution_count": 2,
   "metadata": {},
   "outputs": [],
   "source": [
    "import csv\n",
    "csv_col=[]\n",
    "with open(\"data/input/ppp_loans_state_CO.csv\") as fp:\n",
    "    csv_reader=csv.reader(fp,delimiter=\",\")\n",
    "    csv_col=next(iter(csv_reader))"
   ]
  },
  {
   "cell_type": "code",
   "execution_count": 3,
   "metadata": {},
   "outputs": [],
   "source": [
    "import json\n",
    "content=None\n",
    "json_col=[]\n",
    "with open(\"data/input/places.json\") as fp:\n",
    "    content=json.loads(fp.read())\n",
    "    json_col = list(next(iter(content['data'])).keys())\n"
   ]
  },
  {
   "cell_type": "code",
   "execution_count": 4,
   "metadata": {},
   "outputs": [
    {
     "name": "stdout",
     "output_type": "stream",
     "text": [
      "['address']\n"
     ]
    }
   ],
   "source": [
    "common_values=list(set(csv_col).intersection(set(json_col)))\n",
    "print(common_values)"
   ]
  },
  {
   "cell_type": "code",
   "execution_count": 5,
   "metadata": {},
   "outputs": [],
   "source": [
    "places_df_audit_city=pd.DataFrame(content['data'])\n",
    "loans_df_gov=pd.read_csv(\"data/input/ppp_loans_state_CO.csv\")"
   ]
  },
  {
   "cell_type": "code",
   "execution_count": 6,
   "metadata": {},
   "outputs": [
    {
     "data": {
      "text/plain": [
       "(Index(['loan_amount', 'business_name', 'address', 'city', 'state', 'zip',\n",
       "        'naics_code', 'business_type', 'race_ethnicity', 'gender', 'veteran',\n",
       "        'non_profit', 'jobs_reported', 'date_approved', 'lender', 'cd',\n",
       "        'source_file', 'na_flag', 'dupe_flag', 'year_approved', 'address_clean',\n",
       "        'state_clean', 'city_clean'],\n",
       "       dtype='object'),\n",
       " 23)"
      ]
     },
     "execution_count": 6,
     "metadata": {},
     "output_type": "execute_result"
    }
   ],
   "source": [
    "loans_df_gov.columns,len(loans_df_gov.columns)"
   ]
  },
  {
   "cell_type": "code",
   "execution_count": 7,
   "metadata": {},
   "outputs": [],
   "source": [
    "def get_st_road_data(address):\n",
    "    if isinstance(address,dict):\n",
    "        return address.get('street',None)\n",
    "    return None\n",
    "def get_city(address):\n",
    "    if isinstance(address, dict):\n",
    "        return address.get('city',None)\n",
    "    return None\n",
    "def get_state(address):\n",
    "    if isinstance(address, dict):\n",
    "        return address.get('adm1',None)\n",
    "    return None\n",
    "def get_zipcode(address):\n",
    "    if isinstance(address, dict):\n",
    "        return address.get('postcode',None)\n",
    "    return None"
   ]
  },
  {
   "cell_type": "code",
   "execution_count": 8,
   "metadata": {},
   "outputs": [],
   "source": [
    "places_df_audit_city[\"address\"]\n",
    "places_df_audit_city[\"address_clean\"]=places_df_audit_city['address'].apply(get_st_road_data)\n",
    "places_df_audit_city[\"city_clean\"]=places_df_audit_city['address'].apply(get_city)\n",
    "places_df_audit_city[\"state_clean\"]=places_df_audit_city['address'].apply(get_state)\n",
    "places_df_audit_city[\"zip\"]=places_df_audit_city['address'].apply(get_zipcode)\n",
    "places_df_audit_city[\"business_name\"]=places_df_audit_city['name']"
   ]
  },
  {
   "cell_type": "code",
   "execution_count": 9,
   "metadata": {},
   "outputs": [
    {
     "data": {
      "text/html": [
       "<div>\n",
       "<style scoped>\n",
       "    .dataframe tbody tr th:only-of-type {\n",
       "        vertical-align: middle;\n",
       "    }\n",
       "\n",
       "    .dataframe tbody tr th {\n",
       "        vertical-align: top;\n",
       "    }\n",
       "\n",
       "    .dataframe thead th {\n",
       "        text-align: right;\n",
       "    }\n",
       "</style>\n",
       "<table border=\"1\" class=\"dataframe\">\n",
       "  <thead>\n",
       "    <tr style=\"text-align: right;\">\n",
       "      <th></th>\n",
       "      <th>business_name</th>\n",
       "      <th>address_clean</th>\n",
       "      <th>city_clean</th>\n",
       "      <th>state_clean</th>\n",
       "      <th>zip</th>\n",
       "    </tr>\n",
       "  </thead>\n",
       "  <tbody>\n",
       "    <tr>\n",
       "      <th>0</th>\n",
       "      <td>CBDermaceuticals</td>\n",
       "      <td>None</td>\n",
       "      <td>Denver</td>\n",
       "      <td>Colorado</td>\n",
       "      <td>80202</td>\n",
       "    </tr>\n",
       "    <tr>\n",
       "      <th>1</th>\n",
       "      <td>Unique Manufacturing &amp; Marketing</td>\n",
       "      <td>5752 N Lamar St</td>\n",
       "      <td>Arvada</td>\n",
       "      <td>Colorado</td>\n",
       "      <td>80002</td>\n",
       "    </tr>\n",
       "    <tr>\n",
       "      <th>2</th>\n",
       "      <td>S N N Manufacturing Inc</td>\n",
       "      <td>None</td>\n",
       "      <td>Denver</td>\n",
       "      <td>Colorado</td>\n",
       "      <td>80209</td>\n",
       "    </tr>\n",
       "    <tr>\n",
       "      <th>3</th>\n",
       "      <td>Monarch Metal Manufacturing</td>\n",
       "      <td>550 W 53rd Pl</td>\n",
       "      <td>Denver</td>\n",
       "      <td>Colorado</td>\n",
       "      <td>80216</td>\n",
       "    </tr>\n",
       "    <tr>\n",
       "      <th>4</th>\n",
       "      <td>T &amp; H Manufacturing LLC</td>\n",
       "      <td>581 S Federal Blvd</td>\n",
       "      <td>Denver</td>\n",
       "      <td>Colorado</td>\n",
       "      <td>80219</td>\n",
       "    </tr>\n",
       "    <tr>\n",
       "      <th>5</th>\n",
       "      <td>Sana Packaging</td>\n",
       "      <td>3451 Decatur St</td>\n",
       "      <td>Denver</td>\n",
       "      <td>Colorado</td>\n",
       "      <td>80211</td>\n",
       "    </tr>\n",
       "  </tbody>\n",
       "</table>\n",
       "</div>"
      ],
      "text/plain": [
       "                      business_name       address_clean city_clean  \\\n",
       "0                  CBDermaceuticals                None     Denver   \n",
       "1  Unique Manufacturing & Marketing     5752 N Lamar St     Arvada   \n",
       "2           S N N Manufacturing Inc                None     Denver   \n",
       "3       Monarch Metal Manufacturing       550 W 53rd Pl     Denver   \n",
       "4           T & H Manufacturing LLC  581 S Federal Blvd     Denver   \n",
       "5                    Sana Packaging     3451 Decatur St     Denver   \n",
       "\n",
       "  state_clean    zip  \n",
       "0    Colorado  80202  \n",
       "1    Colorado  80002  \n",
       "2    Colorado  80209  \n",
       "3    Colorado  80216  \n",
       "4    Colorado  80219  \n",
       "5    Colorado  80211  "
      ]
     },
     "execution_count": 9,
     "metadata": {},
     "output_type": "execute_result"
    }
   ],
   "source": [
    "places_df_audit_city[['business_name','address_clean','city_clean','state_clean','zip']][:6]"
   ]
  },
  {
   "cell_type": "code",
   "execution_count": 10,
   "metadata": {},
   "outputs": [],
   "source": [
    "import fuzzymatcher"
   ]
  },
  {
   "cell_type": "code",
   "execution_count": 11,
   "metadata": {},
   "outputs": [],
   "source": [
    "on=[\"business_name\",\"address_clean\",\"city_clean\",\"state_clean\",\"zip\"]"
   ]
  },
  {
   "cell_type": "code",
   "execution_count": 12,
   "metadata": {},
   "outputs": [],
   "source": [
    "matched_results = fuzzymatcher.fuzzy_left_join(places_df_audit_city,\n",
    "                                            loans_df_gov,\n",
    "                                            on,\n",
    "                                            on,\n",
    "                                            )"
   ]
  },
  {
   "cell_type": "code",
   "execution_count": 33,
   "metadata": {},
   "outputs": [],
   "source": [
    "final_result=matched_results[matched_results[\"best_match_score\"]>0.8]"
   ]
  },
  {
   "cell_type": "code",
   "execution_count": 34,
   "metadata": {},
   "outputs": [
    {
     "data": {
      "text/plain": [
       "Index(['best_match_score', '__id_left', '__id_right', 'rank', 'name', 'logo',\n",
       "       'description', 'address_left', 'location', 'reviews', 'category',\n",
       "       'timezone', 'price_range', 'language', 'is_claimed', 'extra',\n",
       "       'identity', 'opening_hours', 'status', 'media', 'activity', 'devices',\n",
       "       'external_id', 'feature_id', 'gkg_id', 'owner', 'phone', 'url',\n",
       "       'appointment', 'website', 'address_clean_left', 'city_clean_left',\n",
       "       'state_clean_left', 'zip_left', 'business_name_left', 'loan_amount',\n",
       "       'business_name_right', 'address_right', 'city', 'state', 'zip_right',\n",
       "       'naics_code', 'business_type', 'race_ethnicity', 'gender', 'veteran',\n",
       "       'non_profit', 'jobs_reported', 'date_approved', 'lender', 'cd',\n",
       "       'source_file', 'na_flag', 'dupe_flag', 'year_approved',\n",
       "       'address_clean_right', 'state_clean_right', 'city_clean_right'],\n",
       "      dtype='object')"
      ]
     },
     "execution_count": 34,
     "metadata": {},
     "output_type": "execute_result"
    }
   ],
   "source": [
    "matched_results.columns"
   ]
  },
  {
   "cell_type": "code",
   "execution_count": 35,
   "metadata": {},
   "outputs": [],
   "source": [
    "final_result=final_result.sort_values(by=['best_match_score'],ascending=False)"
   ]
  },
  {
   "cell_type": "code",
   "execution_count": 36,
   "metadata": {},
   "outputs": [],
   "source": [
    "basic_results=final_result[[\"business_name_left\",\"business_name_right\",\"best_match_score\"]]"
   ]
  },
  {
   "cell_type": "code",
   "execution_count": 37,
   "metadata": {},
   "outputs": [],
   "source": [
    "basic_results.to_csv(\"data/extra/business_names.csv\")"
   ]
  },
  {
   "cell_type": "code",
   "execution_count": 38,
   "metadata": {},
   "outputs": [],
   "source": [
    "final_result.to_csv('data/output/matched_result.csv',index=True)"
   ]
  },
  {
   "cell_type": "code",
   "execution_count": 39,
   "metadata": {},
   "outputs": [],
   "source": [
    "df1_cols=list(places_df_audit_city.columns)\n",
    "on.append(\"address\")\n",
    "for i in range(len(df1_cols)):\n",
    "    if df1_cols[i] in on:\n",
    "        df1_cols[i]=f'{df1_cols[i]}_left'"
   ]
  },
  {
   "cell_type": "code",
   "execution_count": 40,
   "metadata": {},
   "outputs": [
    {
     "data": {
      "text/plain": [
       "(32,\n",
       " 32,\n",
       " ['rank',\n",
       "  'name',\n",
       "  'logo',\n",
       "  'description',\n",
       "  'address_left',\n",
       "  'location',\n",
       "  'reviews',\n",
       "  'category',\n",
       "  'timezone',\n",
       "  'price_range',\n",
       "  'language',\n",
       "  'is_claimed',\n",
       "  'extra',\n",
       "  'identity',\n",
       "  'opening_hours',\n",
       "  'status',\n",
       "  'media',\n",
       "  'activity',\n",
       "  'devices',\n",
       "  'external_id',\n",
       "  'feature_id',\n",
       "  'gkg_id',\n",
       "  'owner',\n",
       "  'phone',\n",
       "  'url',\n",
       "  'appointment',\n",
       "  'website',\n",
       "  'address_clean_left',\n",
       "  'city_clean_left',\n",
       "  'state_clean_left',\n",
       "  'zip_left',\n",
       "  'business_name_left'])"
      ]
     },
     "execution_count": 40,
     "metadata": {},
     "output_type": "execute_result"
    }
   ],
   "source": [
    "len(df1_cols), len(places_df_audit_city.columns), df1_cols"
   ]
  },
  {
   "cell_type": "code",
   "execution_count": 41,
   "metadata": {},
   "outputs": [],
   "source": [
    "matched_df_1=final_result[df1_cols]"
   ]
  },
  {
   "cell_type": "code",
   "execution_count": 42,
   "metadata": {},
   "outputs": [],
   "source": [
    "df2_cols=['loan_amount',\n",
    "       'business_name_right', 'address_right', 'city', 'state', 'zip_right',\n",
    "       'naics_code', 'business_type', 'race_ethnicity', 'gender', 'veteran',\n",
    "       'non_profit', 'jobs_reported', 'date_approved', 'lender', 'cd',\n",
    "       'source_file', 'na_flag', 'dupe_flag', 'year_approved',\n",
    "       'address_clean_right', 'state_clean_right', 'city_clean_right']\n"
   ]
  },
  {
   "cell_type": "code",
   "execution_count": 43,
   "metadata": {},
   "outputs": [
    {
     "data": {
      "text/plain": [
       "(23, 23)"
      ]
     },
     "execution_count": 43,
     "metadata": {},
     "output_type": "execute_result"
    }
   ],
   "source": [
    "len(loans_df_gov.columns),len(df2_cols)"
   ]
  },
  {
   "cell_type": "code",
   "execution_count": 44,
   "metadata": {},
   "outputs": [],
   "source": [
    "matched_df_2=final_result[df2_cols]"
   ]
  },
  {
   "cell_type": "code",
   "execution_count": 45,
   "metadata": {},
   "outputs": [
    {
     "data": {
      "text/plain": [
       "Index(['rank', 'name', 'logo', 'description', 'address_left', 'location',\n",
       "       'reviews', 'category', 'timezone', 'price_range', 'language',\n",
       "       'is_claimed', 'extra', 'identity', 'opening_hours', 'status', 'media',\n",
       "       'activity', 'devices', 'external_id', 'feature_id', 'gkg_id', 'owner',\n",
       "       'phone', 'url', 'appointment', 'website', 'address_clean_left',\n",
       "       'city_clean_left', 'state_clean_left', 'zip_left',\n",
       "       'business_name_left'],\n",
       "      dtype='object')"
      ]
     },
     "execution_count": 45,
     "metadata": {},
     "output_type": "execute_result"
    }
   ],
   "source": [
    "matched_df_1.columns"
   ]
  },
  {
   "cell_type": "code",
   "execution_count": 46,
   "metadata": {},
   "outputs": [],
   "source": [
    "refined_matched_df_1=matched_df_1[['rank', 'name', 'logo', 'description', 'address_left', 'location',\n",
    "       'reviews', 'category', 'timezone', 'price_range', 'language',\n",
    "       'is_claimed', 'extra', 'identity', 'opening_hours', 'status', 'media',\n",
    "       'activity', 'devices', 'external_id', 'feature_id', 'gkg_id', 'owner',\n",
    "       'phone', 'url', 'appointment', 'website',\"address_clean_left\",\"state_clean_left\",\"city_clean_left\",\"zip_left\"]]"
   ]
  },
  {
   "cell_type": "code",
   "execution_count": 47,
   "metadata": {},
   "outputs": [
    {
     "name": "stderr",
     "output_type": "stream",
     "text": [
      "/tmp/ipykernel_10522/2393469631.py:1: SettingWithCopyWarning: \n",
      "A value is trying to be set on a copy of a slice from a DataFrame\n",
      "\n",
      "See the caveats in the documentation: https://pandas.pydata.org/pandas-docs/stable/user_guide/indexing.html#returning-a-view-versus-a-copy\n",
      "  refined_matched_df_1.rename(columns={\n"
     ]
    }
   ],
   "source": [
    "refined_matched_df_1.rename(columns={\n",
    "    \"name\":\"business_name\",\n",
    "    \"address_left\":\"address\",\n",
    "    \"address_clean_left\":\"address_clean\",\n",
    "    \"state_clean_left\":\"state_clean\",\n",
    "    \"city_clean_left\":\"city_clean\",\n",
    "    \"zip_left\":\"zip\"\n",
    "},inplace=True)"
   ]
  },
  {
   "cell_type": "code",
   "execution_count": 48,
   "metadata": {},
   "outputs": [
    {
     "data": {
      "text/plain": [
       "Index(['loan_amount', 'business_name_right', 'address_right', 'city', 'state',\n",
       "       'zip_right', 'naics_code', 'business_type', 'race_ethnicity', 'gender',\n",
       "       'veteran', 'non_profit', 'jobs_reported', 'date_approved', 'lender',\n",
       "       'cd', 'source_file', 'na_flag', 'dupe_flag', 'year_approved',\n",
       "       'address_clean_right', 'state_clean_right', 'city_clean_right'],\n",
       "      dtype='object')"
      ]
     },
     "execution_count": 48,
     "metadata": {},
     "output_type": "execute_result"
    }
   ],
   "source": [
    "matched_df_2.columns"
   ]
  },
  {
   "cell_type": "code",
   "execution_count": 49,
   "metadata": {},
   "outputs": [
    {
     "name": "stderr",
     "output_type": "stream",
     "text": [
      "/tmp/ipykernel_10522/2715793567.py:1: SettingWithCopyWarning: \n",
      "A value is trying to be set on a copy of a slice from a DataFrame\n",
      "\n",
      "See the caveats in the documentation: https://pandas.pydata.org/pandas-docs/stable/user_guide/indexing.html#returning-a-view-versus-a-copy\n",
      "  matched_df_2.rename(columns={\n"
     ]
    }
   ],
   "source": [
    "matched_df_2.rename(columns={\n",
    "    \"business_name_right\":\"business_name\",\n",
    "    \"address_right\":\"address\",\n",
    "    \"address_clean_right\":\"address_clean\",\n",
    "    \"state_clean_right\":\"state_clean\",\n",
    "    \"city_clean_right\":\"city_clean\",\n",
    "    \"zip_right\":\"zip\"\n",
    "},inplace=True)"
   ]
  },
  {
   "cell_type": "code",
   "execution_count": null,
   "metadata": {},
   "outputs": [],
   "source": []
  },
  {
   "cell_type": "code",
   "execution_count": 50,
   "metadata": {},
   "outputs": [
    {
     "data": {
      "text/plain": [
       "(Index(['loan_amount', 'business_name', 'address', 'city', 'state', 'zip',\n",
       "        'naics_code', 'business_type', 'race_ethnicity', 'gender', 'veteran',\n",
       "        'non_profit', 'jobs_reported', 'date_approved', 'lender', 'cd',\n",
       "        'source_file', 'na_flag', 'dupe_flag', 'year_approved', 'address_clean',\n",
       "        'state_clean', 'city_clean'],\n",
       "       dtype='object'),\n",
       " 23)"
      ]
     },
     "execution_count": 50,
     "metadata": {},
     "output_type": "execute_result"
    }
   ],
   "source": [
    "matched_df_2.columns,len(matched_df_2.columns)"
   ]
  },
  {
   "cell_type": "code",
   "execution_count": 51,
   "metadata": {},
   "outputs": [],
   "source": [
    "refined_matched_df_1.to_csv(\"data/output/matched_df_1.csv\")"
   ]
  },
  {
   "cell_type": "code",
   "execution_count": 52,
   "metadata": {},
   "outputs": [],
   "source": [
    "matched_df_2.to_csv(\"data/output/matched_df_2.csv\")"
   ]
  },
  {
   "cell_type": "code",
   "execution_count": null,
   "metadata": {},
   "outputs": [],
   "source": []
  },
  {
   "cell_type": "code",
   "execution_count": null,
   "metadata": {},
   "outputs": [],
   "source": []
  },
  {
   "cell_type": "code",
   "execution_count": null,
   "metadata": {},
   "outputs": [],
   "source": []
  },
  {
   "cell_type": "code",
   "execution_count": null,
   "metadata": {},
   "outputs": [],
   "source": []
  }
 ],
 "metadata": {
  "kernelspec": {
   "display_name": ".venv",
   "language": "python",
   "name": "python3"
  },
  "language_info": {
   "codemirror_mode": {
    "name": "ipython",
    "version": 3
   },
   "file_extension": ".py",
   "mimetype": "text/x-python",
   "name": "python",
   "nbconvert_exporter": "python",
   "pygments_lexer": "ipython3",
   "version": "3.10.15"
  }
 },
 "nbformat": 4,
 "nbformat_minor": 2
}
